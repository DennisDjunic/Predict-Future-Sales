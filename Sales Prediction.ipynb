{
 "cells": [
  {
   "cell_type": "markdown",
   "metadata": {},
   "source": [
    "#Predicting Future Sales\n",
    "###Dennis Djunic"
   ]
  },
  {
   "cell_type": "code",
   "execution_count": 1,
   "metadata": {},
   "outputs": [],
   "source": [
    "import pandas as pd\n",
    "import numpy as np\n",
    "from sklearn.preprocessing import LabelEncoder\n",
    "import seaborn as sns\n",
    "import matplotlib.pyplot as plt\n",
    "import matplotlib.dates as mdates\n",
    "from matplotlib.dates import DateFormatter"
   ]
  },
  {
   "cell_type": "code",
   "execution_count": 2,
   "metadata": {},
   "outputs": [],
   "source": [
    "train = pd.read_csv('sales_train.csv')\n",
    "test = pd.read_csv('test.csv')\n",
    "shops = pd.read_csv('shops_eng.csv')\n",
    "items = pd.read_csv('items_eng.csv')\n",
    "categories = pd.read_csv('categories_eng.csv')\n",
    "sns.set()"
   ]
  },
  {
   "cell_type": "code",
   "execution_count": 3,
   "metadata": {},
   "outputs": [],
   "source": [
    "params = {'legend.fontsize': 'medium',\n",
    "          'figure.figsize': (15, 5),\n",
    "         'axes.labelsize': 'x-large',\n",
    "         'axes.titlesize':'x-large',\n",
    "         'xtick.labelsize':'medium',\n",
    "         'ytick.labelsize':'medium'}\n",
    "plt.rcParams.update(params)"
   ]
  },
  {
   "cell_type": "code",
   "execution_count": 4,
   "metadata": {},
   "outputs": [
    {
     "data": {
      "text/html": [
       "<div>\n",
       "<style scoped>\n",
       "    .dataframe tbody tr th:only-of-type {\n",
       "        vertical-align: middle;\n",
       "    }\n",
       "\n",
       "    .dataframe tbody tr th {\n",
       "        vertical-align: top;\n",
       "    }\n",
       "\n",
       "    .dataframe thead th {\n",
       "        text-align: right;\n",
       "    }\n",
       "</style>\n",
       "<table border=\"1\" class=\"dataframe\">\n",
       "  <thead>\n",
       "    <tr style=\"text-align: right;\">\n",
       "      <th></th>\n",
       "      <th>ID</th>\n",
       "      <th>shop_id</th>\n",
       "      <th>item_id</th>\n",
       "    </tr>\n",
       "  </thead>\n",
       "  <tbody>\n",
       "    <tr>\n",
       "      <th>214195</th>\n",
       "      <td>214195</td>\n",
       "      <td>45</td>\n",
       "      <td>18454</td>\n",
       "    </tr>\n",
       "    <tr>\n",
       "      <th>214196</th>\n",
       "      <td>214196</td>\n",
       "      <td>45</td>\n",
       "      <td>16188</td>\n",
       "    </tr>\n",
       "    <tr>\n",
       "      <th>214197</th>\n",
       "      <td>214197</td>\n",
       "      <td>45</td>\n",
       "      <td>15757</td>\n",
       "    </tr>\n",
       "    <tr>\n",
       "      <th>214198</th>\n",
       "      <td>214198</td>\n",
       "      <td>45</td>\n",
       "      <td>19648</td>\n",
       "    </tr>\n",
       "    <tr>\n",
       "      <th>214199</th>\n",
       "      <td>214199</td>\n",
       "      <td>45</td>\n",
       "      <td>969</td>\n",
       "    </tr>\n",
       "  </tbody>\n",
       "</table>\n",
       "</div>"
      ],
      "text/plain": [
       "            ID  shop_id  item_id\n",
       "214195  214195       45    18454\n",
       "214196  214196       45    16188\n",
       "214197  214197       45    15757\n",
       "214198  214198       45    19648\n",
       "214199  214199       45      969"
      ]
     },
     "execution_count": 4,
     "metadata": {},
     "output_type": "execute_result"
    }
   ],
   "source": [
    "test.tail()"
   ]
  },
  {
   "cell_type": "code",
   "execution_count": 5,
   "metadata": {},
   "outputs": [
    {
     "data": {
      "text/html": [
       "<div>\n",
       "<style scoped>\n",
       "    .dataframe tbody tr th:only-of-type {\n",
       "        vertical-align: middle;\n",
       "    }\n",
       "\n",
       "    .dataframe tbody tr th {\n",
       "        vertical-align: top;\n",
       "    }\n",
       "\n",
       "    .dataframe thead th {\n",
       "        text-align: right;\n",
       "    }\n",
       "</style>\n",
       "<table border=\"1\" class=\"dataframe\">\n",
       "  <thead>\n",
       "    <tr style=\"text-align: right;\">\n",
       "      <th></th>\n",
       "      <th>item_id</th>\n",
       "      <th>category_id</th>\n",
       "      <th>item_name</th>\n",
       "    </tr>\n",
       "  </thead>\n",
       "  <tbody>\n",
       "    <tr>\n",
       "      <th>22165</th>\n",
       "      <td>22165</td>\n",
       "      <td>31</td>\n",
       "      <td>Nuclear Titbit 2 [PC, Digital Version]</td>\n",
       "    </tr>\n",
       "    <tr>\n",
       "      <th>22166</th>\n",
       "      <td>22166</td>\n",
       "      <td>54</td>\n",
       "      <td>Query language 1C: Enterprise [Digital version]</td>\n",
       "    </tr>\n",
       "    <tr>\n",
       "      <th>22167</th>\n",
       "      <td>22167</td>\n",
       "      <td>49</td>\n",
       "      <td>The query language is 1C: Enterprise 8 (+ CD)....</td>\n",
       "    </tr>\n",
       "    <tr>\n",
       "      <th>22168</th>\n",
       "      <td>22168</td>\n",
       "      <td>62</td>\n",
       "      <td>Egg for Little Inu</td>\n",
       "    </tr>\n",
       "    <tr>\n",
       "      <th>22169</th>\n",
       "      <td>22169</td>\n",
       "      <td>69</td>\n",
       "      <td>Egg of the Dragon (Game of Thrones)</td>\n",
       "    </tr>\n",
       "  </tbody>\n",
       "</table>\n",
       "</div>"
      ],
      "text/plain": [
       "       item_id  category_id                                          item_name\n",
       "22165    22165           31             Nuclear Titbit 2 [PC, Digital Version]\n",
       "22166    22166           54    Query language 1C: Enterprise [Digital version]\n",
       "22167    22167           49  The query language is 1C: Enterprise 8 (+ CD)....\n",
       "22168    22168           62                                 Egg for Little Inu\n",
       "22169    22169           69                Egg of the Dragon (Game of Thrones)"
      ]
     },
     "execution_count": 5,
     "metadata": {},
     "output_type": "execute_result"
    }
   ],
   "source": [
    "items.tail()"
   ]
  },
  {
   "cell_type": "markdown",
   "metadata": {},
   "source": [
    "###Categories"
   ]
  },
  {
   "cell_type": "code",
   "execution_count": 6,
   "metadata": {},
   "outputs": [
    {
     "data": {
      "text/html": [
       "<div>\n",
       "<style scoped>\n",
       "    .dataframe tbody tr th:only-of-type {\n",
       "        vertical-align: middle;\n",
       "    }\n",
       "\n",
       "    .dataframe tbody tr th {\n",
       "        vertical-align: top;\n",
       "    }\n",
       "\n",
       "    .dataframe thead th {\n",
       "        text-align: right;\n",
       "    }\n",
       "</style>\n",
       "<table border=\"1\" class=\"dataframe\">\n",
       "  <thead>\n",
       "    <tr style=\"text-align: right;\">\n",
       "      <th></th>\n",
       "      <th>category_name</th>\n",
       "      <th>category_id</th>\n",
       "      <th>group_name</th>\n",
       "      <th>group_id</th>\n",
       "    </tr>\n",
       "  </thead>\n",
       "  <tbody>\n",
       "    <tr>\n",
       "      <th>0</th>\n",
       "      <td>PC - Headsets / Headphones</td>\n",
       "      <td>0</td>\n",
       "      <td>PC</td>\n",
       "      <td>12</td>\n",
       "    </tr>\n",
       "    <tr>\n",
       "      <th>1</th>\n",
       "      <td>Accessories - PS2</td>\n",
       "      <td>1</td>\n",
       "      <td>Accessories</td>\n",
       "      <td>0</td>\n",
       "    </tr>\n",
       "    <tr>\n",
       "      <th>2</th>\n",
       "      <td>Accessories - PS3</td>\n",
       "      <td>2</td>\n",
       "      <td>Accessories</td>\n",
       "      <td>0</td>\n",
       "    </tr>\n",
       "    <tr>\n",
       "      <th>3</th>\n",
       "      <td>Accessories - PS4</td>\n",
       "      <td>3</td>\n",
       "      <td>Accessories</td>\n",
       "      <td>0</td>\n",
       "    </tr>\n",
       "    <tr>\n",
       "      <th>4</th>\n",
       "      <td>Accessories - PSP</td>\n",
       "      <td>4</td>\n",
       "      <td>Accessories</td>\n",
       "      <td>0</td>\n",
       "    </tr>\n",
       "  </tbody>\n",
       "</table>\n",
       "</div>"
      ],
      "text/plain": [
       "                category_name  category_id   group_name  group_id\n",
       "0  PC - Headsets / Headphones            0           PC        12\n",
       "1           Accessories - PS2            1  Accessories         0\n",
       "2           Accessories - PS3            2  Accessories         0\n",
       "3           Accessories - PS4            3  Accessories         0\n",
       "4           Accessories - PSP            4  Accessories         0"
      ]
     },
     "execution_count": 6,
     "metadata": {},
     "output_type": "execute_result"
    }
   ],
   "source": [
    "categories['group_name'] = categories['category_name'].str.extract(r'(^[\\w\\s]*)')\n",
    "categories['group_name'] = categories['group_name'].str.strip()\n",
    "categories['group_id']  = LabelEncoder().fit_transform(categories.group_name.values)\n",
    "categories.head()"
   ]
  },
  {
   "cell_type": "markdown",
   "metadata": {},
   "source": [
    "###Items"
   ]
  },
  {
   "cell_type": "code",
   "execution_count": 7,
   "metadata": {},
   "outputs": [],
   "source": [
    "items['item_name'] = items['item_name'].str.lower()\n",
    "items['item_name'] = items['item_name'].str.replace('.', '')\n",
    "things_to_take_out = [r'[^\\w\\d\\s\\.]', r'\\bthe\\b', r'\\bin\\b', r'\\bis\\b', r'\\bfor\\b', r'\\bof\\b',\\\n",
    "                      r'\\bon\\b', r'\\band\\b',  r'\\bto\\b', r'\\bwith\\b' , r'\\byo\\b']\n",
    "for i in things_to_take_out:\n",
    "    items['item_name'] = items['item_name'].str.replace(i, ' ')\n",
    "items['item_name'] = items['item_name'].str.replace(r'\\b.\\b', ' ')\n",
    "merged_df = items.merge(categories, on='category_id')"
   ]
  },
  {
   "cell_type": "code",
   "execution_count": 8,
   "metadata": {},
   "outputs": [
    {
     "data": {
      "text/html": [
       "<div>\n",
       "<style scoped>\n",
       "    .dataframe tbody tr th:only-of-type {\n",
       "        vertical-align: middle;\n",
       "    }\n",
       "\n",
       "    .dataframe tbody tr th {\n",
       "        vertical-align: top;\n",
       "    }\n",
       "\n",
       "    .dataframe thead th {\n",
       "        text-align: right;\n",
       "    }\n",
       "</style>\n",
       "<table border=\"1\" class=\"dataframe\">\n",
       "  <thead>\n",
       "    <tr style=\"text-align: right;\">\n",
       "      <th></th>\n",
       "      <th>item_id</th>\n",
       "      <th>category_id</th>\n",
       "      <th>item_name</th>\n",
       "      <th>category_name</th>\n",
       "      <th>group_name</th>\n",
       "      <th>group_id</th>\n",
       "    </tr>\n",
       "  </thead>\n",
       "  <tbody>\n",
       "    <tr>\n",
       "      <th>0</th>\n",
       "      <td>0</td>\n",
       "      <td>40</td>\n",
       "      <td>power   happiness  plast</td>\n",
       "      <td>Cinema - DVD</td>\n",
       "      <td>Cinema</td>\n",
       "      <td>5</td>\n",
       "    </tr>\n",
       "    <tr>\n",
       "      <th>1</th>\n",
       "      <td>2</td>\n",
       "      <td>40</td>\n",
       "      <td>glory     glory  unv</td>\n",
       "      <td>Cinema - DVD</td>\n",
       "      <td>Cinema</td>\n",
       "      <td>5</td>\n",
       "    </tr>\n",
       "    <tr>\n",
       "      <th>2</th>\n",
       "      <td>3</td>\n",
       "      <td>40</td>\n",
       "      <td>blue wave  univ</td>\n",
       "      <td>Cinema - DVD</td>\n",
       "      <td>Cinema</td>\n",
       "      <td>5</td>\n",
       "    </tr>\n",
       "    <tr>\n",
       "      <th>3</th>\n",
       "      <td>4</td>\n",
       "      <td>40</td>\n",
       "      <td>box  glass</td>\n",
       "      <td>Cinema - DVD</td>\n",
       "      <td>Cinema</td>\n",
       "      <td>5</td>\n",
       "    </tr>\n",
       "    <tr>\n",
       "      <th>4</th>\n",
       "      <td>5</td>\n",
       "      <td>40</td>\n",
       "      <td>new american graphics  uni</td>\n",
       "      <td>Cinema - DVD</td>\n",
       "      <td>Cinema</td>\n",
       "      <td>5</td>\n",
       "    </tr>\n",
       "  </tbody>\n",
       "</table>\n",
       "</div>"
      ],
      "text/plain": [
       "   item_id  category_id                           item_name  category_name  \\\n",
       "0        0           40         power   happiness  plast      Cinema - DVD   \n",
       "1        2           40             glory     glory  unv      Cinema - DVD   \n",
       "2        3           40                  blue wave  univ      Cinema - DVD   \n",
       "3        4           40                       box  glass      Cinema - DVD   \n",
       "4        5           40       new american graphics  uni      Cinema - DVD   \n",
       "\n",
       "  group_name  group_id  \n",
       "0     Cinema         5  \n",
       "1     Cinema         5  \n",
       "2     Cinema         5  \n",
       "3     Cinema         5  \n",
       "4     Cinema         5  "
      ]
     },
     "execution_count": 8,
     "metadata": {},
     "output_type": "execute_result"
    }
   ],
   "source": [
    "merged_df.head()"
   ]
  },
  {
   "cell_type": "markdown",
   "metadata": {},
   "source": [
    "###Training Data"
   ]
  },
  {
   "cell_type": "code",
   "execution_count": 9,
   "metadata": {},
   "outputs": [],
   "source": [
    "train = train.query('0 < item_price < 5000 and 0 < item_cnt_day < 1001')\n",
    "train = train[train['shop_id'].isin(test.shop_id.unique())]\n",
    "train['date'] = pd.to_datetime(train.date, format='%d.%m.%Y')\n",
    "train['date'] = train['date'].dt.strftime('%Y-%m')\n",
    "train['total_sales'] = train['item_cnt_day']*train['item_price']"
   ]
  },
  {
   "cell_type": "code",
   "execution_count": 10,
   "metadata": {},
   "outputs": [
    {
     "data": {
      "text/html": [
       "<div>\n",
       "<style scoped>\n",
       "    .dataframe tbody tr th:only-of-type {\n",
       "        vertical-align: middle;\n",
       "    }\n",
       "\n",
       "    .dataframe tbody tr th {\n",
       "        vertical-align: top;\n",
       "    }\n",
       "\n",
       "    .dataframe thead th {\n",
       "        text-align: right;\n",
       "    }\n",
       "</style>\n",
       "<table border=\"1\" class=\"dataframe\">\n",
       "  <thead>\n",
       "    <tr style=\"text-align: right;\">\n",
       "      <th></th>\n",
       "      <th>date</th>\n",
       "      <th>date_block_num</th>\n",
       "      <th>shop_id</th>\n",
       "      <th>item_id</th>\n",
       "      <th>item_price</th>\n",
       "      <th>item_cnt_day</th>\n",
       "      <th>total_sales</th>\n",
       "    </tr>\n",
       "  </thead>\n",
       "  <tbody>\n",
       "    <tr>\n",
       "      <th>0</th>\n",
       "      <td>2013-01</td>\n",
       "      <td>0</td>\n",
       "      <td>59</td>\n",
       "      <td>22154</td>\n",
       "      <td>999.00</td>\n",
       "      <td>1.0</td>\n",
       "      <td>999.00</td>\n",
       "    </tr>\n",
       "    <tr>\n",
       "      <th>1</th>\n",
       "      <td>2013-01</td>\n",
       "      <td>0</td>\n",
       "      <td>25</td>\n",
       "      <td>2552</td>\n",
       "      <td>899.00</td>\n",
       "      <td>1.0</td>\n",
       "      <td>899.00</td>\n",
       "    </tr>\n",
       "    <tr>\n",
       "      <th>3</th>\n",
       "      <td>2013-01</td>\n",
       "      <td>0</td>\n",
       "      <td>25</td>\n",
       "      <td>2554</td>\n",
       "      <td>1709.05</td>\n",
       "      <td>1.0</td>\n",
       "      <td>1709.05</td>\n",
       "    </tr>\n",
       "    <tr>\n",
       "      <th>4</th>\n",
       "      <td>2013-01</td>\n",
       "      <td>0</td>\n",
       "      <td>25</td>\n",
       "      <td>2555</td>\n",
       "      <td>1099.00</td>\n",
       "      <td>1.0</td>\n",
       "      <td>1099.00</td>\n",
       "    </tr>\n",
       "    <tr>\n",
       "      <th>5</th>\n",
       "      <td>2013-01</td>\n",
       "      <td>0</td>\n",
       "      <td>25</td>\n",
       "      <td>2564</td>\n",
       "      <td>349.00</td>\n",
       "      <td>1.0</td>\n",
       "      <td>349.00</td>\n",
       "    </tr>\n",
       "  </tbody>\n",
       "</table>\n",
       "</div>"
      ],
      "text/plain": [
       "      date  date_block_num  shop_id  item_id  item_price  item_cnt_day  \\\n",
       "0  2013-01               0       59    22154      999.00           1.0   \n",
       "1  2013-01               0       25     2552      899.00           1.0   \n",
       "3  2013-01               0       25     2554     1709.05           1.0   \n",
       "4  2013-01               0       25     2555     1099.00           1.0   \n",
       "5  2013-01               0       25     2564      349.00           1.0   \n",
       "\n",
       "   total_sales  \n",
       "0       999.00  \n",
       "1       899.00  \n",
       "3      1709.05  \n",
       "4      1099.00  \n",
       "5       349.00  "
      ]
     },
     "execution_count": 10,
     "metadata": {},
     "output_type": "execute_result"
    }
   ],
   "source": [
    "train.head()"
   ]
  },
  {
   "cell_type": "code",
   "execution_count": 11,
   "metadata": {},
   "outputs": [
    {
     "data": {
      "text/html": [
       "<div>\n",
       "<style scoped>\n",
       "    .dataframe tbody tr th:only-of-type {\n",
       "        vertical-align: middle;\n",
       "    }\n",
       "\n",
       "    .dataframe tbody tr th {\n",
       "        vertical-align: top;\n",
       "    }\n",
       "\n",
       "    .dataframe thead th {\n",
       "        text-align: right;\n",
       "    }\n",
       "</style>\n",
       "<table border=\"1\" class=\"dataframe\">\n",
       "  <thead>\n",
       "    <tr style=\"text-align: right;\">\n",
       "      <th></th>\n",
       "      <th>date</th>\n",
       "      <th>shop_id</th>\n",
       "      <th>item_id</th>\n",
       "      <th>date_block_num</th>\n",
       "      <th>item_price</th>\n",
       "      <th>total_item_cnt</th>\n",
       "      <th>total_sales</th>\n",
       "    </tr>\n",
       "  </thead>\n",
       "  <tbody>\n",
       "    <tr>\n",
       "      <th>1308144</th>\n",
       "      <td>2015-10</td>\n",
       "      <td>59</td>\n",
       "      <td>22087</td>\n",
       "      <td>99</td>\n",
       "      <td>357.0</td>\n",
       "      <td>6.0</td>\n",
       "      <td>714.0</td>\n",
       "    </tr>\n",
       "    <tr>\n",
       "      <th>1308145</th>\n",
       "      <td>2015-10</td>\n",
       "      <td>59</td>\n",
       "      <td>22088</td>\n",
       "      <td>66</td>\n",
       "      <td>238.0</td>\n",
       "      <td>2.0</td>\n",
       "      <td>238.0</td>\n",
       "    </tr>\n",
       "    <tr>\n",
       "      <th>1308146</th>\n",
       "      <td>2015-10</td>\n",
       "      <td>59</td>\n",
       "      <td>22091</td>\n",
       "      <td>33</td>\n",
       "      <td>179.0</td>\n",
       "      <td>1.0</td>\n",
       "      <td>179.0</td>\n",
       "    </tr>\n",
       "    <tr>\n",
       "      <th>1308147</th>\n",
       "      <td>2015-10</td>\n",
       "      <td>59</td>\n",
       "      <td>22100</td>\n",
       "      <td>33</td>\n",
       "      <td>629.0</td>\n",
       "      <td>1.0</td>\n",
       "      <td>629.0</td>\n",
       "    </tr>\n",
       "    <tr>\n",
       "      <th>1308148</th>\n",
       "      <td>2015-10</td>\n",
       "      <td>59</td>\n",
       "      <td>22102</td>\n",
       "      <td>33</td>\n",
       "      <td>1250.0</td>\n",
       "      <td>1.0</td>\n",
       "      <td>1250.0</td>\n",
       "    </tr>\n",
       "  </tbody>\n",
       "</table>\n",
       "</div>"
      ],
      "text/plain": [
       "            date  shop_id  item_id  date_block_num  item_price  \\\n",
       "1308144  2015-10       59    22087              99       357.0   \n",
       "1308145  2015-10       59    22088              66       238.0   \n",
       "1308146  2015-10       59    22091              33       179.0   \n",
       "1308147  2015-10       59    22100              33       629.0   \n",
       "1308148  2015-10       59    22102              33      1250.0   \n",
       "\n",
       "         total_item_cnt  total_sales  \n",
       "1308144             6.0        714.0  \n",
       "1308145             2.0        238.0  \n",
       "1308146             1.0        179.0  \n",
       "1308147             1.0        629.0  \n",
       "1308148             1.0       1250.0  "
      ]
     },
     "execution_count": 11,
     "metadata": {},
     "output_type": "execute_result"
    }
   ],
   "source": [
    "grouped_by_month = train.groupby(['date', 'shop_id', 'item_id']).sum().reset_index()\\\n",
    ".rename(columns = {'item_cnt_day' : 'total_item_cnt'})\n",
    "grouped_by_month.tail()"
   ]
  },
  {
   "cell_type": "code",
   "execution_count": 12,
   "metadata": {},
   "outputs": [
    {
     "data": {
      "text/html": [
       "<div>\n",
       "<style scoped>\n",
       "    .dataframe tbody tr th:only-of-type {\n",
       "        vertical-align: middle;\n",
       "    }\n",
       "\n",
       "    .dataframe tbody tr th {\n",
       "        vertical-align: top;\n",
       "    }\n",
       "\n",
       "    .dataframe thead th {\n",
       "        text-align: right;\n",
       "    }\n",
       "</style>\n",
       "<table border=\"1\" class=\"dataframe\">\n",
       "  <thead>\n",
       "    <tr style=\"text-align: right;\">\n",
       "      <th></th>\n",
       "      <th>date</th>\n",
       "      <th>shop_id</th>\n",
       "      <th>item_id</th>\n",
       "      <th>date_block_num</th>\n",
       "      <th>item_price</th>\n",
       "      <th>total_item_cnt</th>\n",
       "      <th>total_sales</th>\n",
       "      <th>category_id</th>\n",
       "      <th>item_name</th>\n",
       "      <th>category_name</th>\n",
       "      <th>group_name</th>\n",
       "      <th>group_id</th>\n",
       "    </tr>\n",
       "  </thead>\n",
       "  <tbody>\n",
       "    <tr>\n",
       "      <th>1280242</th>\n",
       "      <td>2015-05</td>\n",
       "      <td>21</td>\n",
       "      <td>10043</td>\n",
       "      <td>112</td>\n",
       "      <td>4676.0</td>\n",
       "      <td>5.0</td>\n",
       "      <td>5755.0</td>\n",
       "      <td>38</td>\n",
       "      <td>ascent jupiter  3d bd</td>\n",
       "      <td>Cinema - Blu-Ray 3D</td>\n",
       "      <td>Cinema</td>\n",
       "      <td>5</td>\n",
       "    </tr>\n",
       "    <tr>\n",
       "      <th>162082</th>\n",
       "      <td>2013-04</td>\n",
       "      <td>24</td>\n",
       "      <td>3427</td>\n",
       "      <td>3</td>\n",
       "      <td>649.0</td>\n",
       "      <td>2.0</td>\n",
       "      <td>1298.0</td>\n",
       "      <td>28</td>\n",
       "      <td>far cry     code     activation     additions ...</td>\n",
       "      <td>PC Games - Additional Editions</td>\n",
       "      <td>PC Games</td>\n",
       "      <td>13</td>\n",
       "    </tr>\n",
       "    <tr>\n",
       "      <th>88849</th>\n",
       "      <td>2015-04</td>\n",
       "      <td>46</td>\n",
       "      <td>7893</td>\n",
       "      <td>27</td>\n",
       "      <td>2890.0</td>\n",
       "      <td>1.0</td>\n",
       "      <td>2890.0</td>\n",
       "      <td>6</td>\n",
       "      <td>x360  gamepad wireless black   wireless contro...</td>\n",
       "      <td>Accessories - XBOX 360</td>\n",
       "      <td>Accessories</td>\n",
       "      <td>0</td>\n",
       "    </tr>\n",
       "    <tr>\n",
       "      <th>705877</th>\n",
       "      <td>2014-10</td>\n",
       "      <td>28</td>\n",
       "      <td>1324</td>\n",
       "      <td>42</td>\n",
       "      <td>1198.0</td>\n",
       "      <td>2.0</td>\n",
       "      <td>1198.0</td>\n",
       "      <td>55</td>\n",
       "      <td>armstrong louis  essential collection  3cd</td>\n",
       "      <td>Music - CD of local production</td>\n",
       "      <td>Music</td>\n",
       "      <td>11</td>\n",
       "    </tr>\n",
       "    <tr>\n",
       "      <th>960180</th>\n",
       "      <td>2014-11</td>\n",
       "      <td>58</td>\n",
       "      <td>16947</td>\n",
       "      <td>22</td>\n",
       "      <td>149.0</td>\n",
       "      <td>1.0</td>\n",
       "      <td>149.0</td>\n",
       "      <td>40</td>\n",
       "      <td>ashese     series</td>\n",
       "      <td>Cinema - DVD</td>\n",
       "      <td>Cinema</td>\n",
       "      <td>5</td>\n",
       "    </tr>\n",
       "  </tbody>\n",
       "</table>\n",
       "</div>"
      ],
      "text/plain": [
       "            date  shop_id  item_id  date_block_num  item_price  \\\n",
       "1280242  2015-05       21    10043             112      4676.0   \n",
       "162082   2013-04       24     3427               3       649.0   \n",
       "88849    2015-04       46     7893              27      2890.0   \n",
       "705877   2014-10       28     1324              42      1198.0   \n",
       "960180   2014-11       58    16947              22       149.0   \n",
       "\n",
       "         total_item_cnt  total_sales  category_id  \\\n",
       "1280242             5.0       5755.0           38   \n",
       "162082              2.0       1298.0           28   \n",
       "88849               1.0       2890.0            6   \n",
       "705877              2.0       1198.0           55   \n",
       "960180              1.0        149.0           40   \n",
       "\n",
       "                                                 item_name  \\\n",
       "1280242                             ascent jupiter  3d bd    \n",
       "162082   far cry     code     activation     additions ...   \n",
       "88849    x360  gamepad wireless black   wireless contro...   \n",
       "705877          armstrong louis  essential collection  3cd   \n",
       "960180                                   ashese     series   \n",
       "\n",
       "                           category_name   group_name  group_id  \n",
       "1280242              Cinema - Blu-Ray 3D       Cinema         5  \n",
       "162082    PC Games - Additional Editions     PC Games        13  \n",
       "88849             Accessories - XBOX 360  Accessories         0  \n",
       "705877    Music - CD of local production        Music        11  \n",
       "960180                      Cinema - DVD       Cinema         5  "
      ]
     },
     "execution_count": 12,
     "metadata": {},
     "output_type": "execute_result"
    }
   ],
   "source": [
    "combined = grouped_by_month.merge(merged_df, on='item_id')\n",
    "combined.sample(5)"
   ]
  },
  {
   "cell_type": "markdown",
   "metadata": {},
   "source": [
    "###Data Exploration"
   ]
  },
  {
   "cell_type": "code",
   "execution_count": 13,
   "metadata": {},
   "outputs": [
    {
     "data": {
      "text/html": [
       "<div>\n",
       "<style scoped>\n",
       "    .dataframe tbody tr th:only-of-type {\n",
       "        vertical-align: middle;\n",
       "    }\n",
       "\n",
       "    .dataframe tbody tr th {\n",
       "        vertical-align: top;\n",
       "    }\n",
       "\n",
       "    .dataframe thead th {\n",
       "        text-align: right;\n",
       "    }\n",
       "</style>\n",
       "<table border=\"1\" class=\"dataframe\">\n",
       "  <thead>\n",
       "    <tr style=\"text-align: right;\">\n",
       "      <th></th>\n",
       "      <th>total_sales</th>\n",
       "    </tr>\n",
       "    <tr>\n",
       "      <th>date</th>\n",
       "      <th></th>\n",
       "    </tr>\n",
       "  </thead>\n",
       "  <tbody>\n",
       "    <tr>\n",
       "      <th>2013-01</th>\n",
       "      <td>57992744.34</td>\n",
       "    </tr>\n",
       "    <tr>\n",
       "      <th>2013-02</th>\n",
       "      <td>60027422.77</td>\n",
       "    </tr>\n",
       "    <tr>\n",
       "      <th>2013-03</th>\n",
       "      <td>75994804.18</td>\n",
       "    </tr>\n",
       "    <tr>\n",
       "      <th>2013-04</th>\n",
       "      <td>49776887.60</td>\n",
       "    </tr>\n",
       "    <tr>\n",
       "      <th>2013-05</th>\n",
       "      <td>48757697.52</td>\n",
       "    </tr>\n",
       "  </tbody>\n",
       "</table>\n",
       "</div>"
      ],
      "text/plain": [
       "         total_sales\n",
       "date                \n",
       "2013-01  57992744.34\n",
       "2013-02  60027422.77\n",
       "2013-03  75994804.18\n",
       "2013-04  49776887.60\n",
       "2013-05  48757697.52"
      ]
     },
     "execution_count": 13,
     "metadata": {},
     "output_type": "execute_result"
    }
   ],
   "source": [
    "total_sales_per_month = combined.groupby('date').agg({'total_sales' : np.sum})\n",
    "total_sales_per_month.head()"
   ]
  },
  {
   "cell_type": "code",
   "execution_count": 14,
   "metadata": {},
   "outputs": [
    {
     "data": {
      "image/png": "[encoded data removed]",
      "text/plain": [
       "<Figure size 1080x360 with 1 Axes>"
      ]
     },
     "metadata": {},
     "output_type": "display_data"
    }
   ],
   "source": [
    "fig, ax = plt.subplots(figsize=(15, 5))\n",
    "sns.lineplot(x=total_sales_per_month.index, y='total_sales', data=total_sales_per_month, color='r')\n",
    "ax.set(xlabel=\"\\nDate\",\n",
    "       ylabel=\"Total Sales\\n\",\n",
    "       title=\"Total Sales For All Shops each Month\\n\")\n",
    "plt.xticks(rotation = 45)\n",
    "\n",
    "plt.show()\n"
   ]
  },
  {
   "cell_type": "code",
   "execution_count": 15,
   "metadata": {},
   "outputs": [
    {
     "data": {
      "text/html": [
       "<div>\n",
       "<style scoped>\n",
       "    .dataframe tbody tr th:only-of-type {\n",
       "        vertical-align: middle;\n",
       "    }\n",
       "\n",
       "    .dataframe tbody tr th {\n",
       "        vertical-align: top;\n",
       "    }\n",
       "\n",
       "    .dataframe thead th {\n",
       "        text-align: right;\n",
       "    }\n",
       "</style>\n",
       "<table border=\"1\" class=\"dataframe\">\n",
       "  <thead>\n",
       "    <tr style=\"text-align: right;\">\n",
       "      <th></th>\n",
       "      <th>category_id</th>\n",
       "      <th>category_name</th>\n",
       "      <th>total_sales</th>\n",
       "    </tr>\n",
       "  </thead>\n",
       "  <tbody>\n",
       "    <tr>\n",
       "      <th>0</th>\n",
       "      <td>19</td>\n",
       "      <td>Games - PS3</td>\n",
       "      <td>3.365856e+08</td>\n",
       "    </tr>\n",
       "    <tr>\n",
       "      <th>1</th>\n",
       "      <td>20</td>\n",
       "      <td>Games - PS4</td>\n",
       "      <td>3.024536e+08</td>\n",
       "    </tr>\n",
       "    <tr>\n",
       "      <th>2</th>\n",
       "      <td>30</td>\n",
       "      <td>PC Games - Standard Editions</td>\n",
       "      <td>2.175054e+08</td>\n",
       "    </tr>\n",
       "    <tr>\n",
       "      <th>3</th>\n",
       "      <td>23</td>\n",
       "      <td>Games - XBOX 360</td>\n",
       "      <td>2.155639e+08</td>\n",
       "    </tr>\n",
       "    <tr>\n",
       "      <th>4</th>\n",
       "      <td>40</td>\n",
       "      <td>Cinema - DVD</td>\n",
       "      <td>1.367741e+08</td>\n",
       "    </tr>\n",
       "  </tbody>\n",
       "</table>\n",
       "</div>"
      ],
      "text/plain": [
       "   category_id                  category_name   total_sales\n",
       "0           19                    Games - PS3  3.365856e+08\n",
       "1           20                    Games - PS4  3.024536e+08\n",
       "2           30   PC Games - Standard Editions  2.175054e+08\n",
       "3           23               Games - XBOX 360  2.155639e+08\n",
       "4           40                   Cinema - DVD  1.367741e+08"
      ]
     },
     "execution_count": 15,
     "metadata": {},
     "output_type": "execute_result"
    }
   ],
   "source": [
    "by_categories = combined.groupby(['category_id', 'category_name']).agg({'total_sales' : np.sum})\n",
    "reind_cat = by_categories.sort_values('total_sales', ascending=False).reset_index()\n",
    "top_20_cats = reind_cat.iloc[:20,::]\n",
    "top_20_cats.head()"
   ]
  },
  {
   "cell_type": "code",
   "execution_count": 16,
   "metadata": {},
   "outputs": [
    {
     "data": {
      "text/plain": [
       "[]"
      ]
     },
     "execution_count": 16,
     "metadata": {},
     "output_type": "execute_result"
    },
    {
     "data": {
      "image/png": "[encoded data removed]",
      "text/plain": [
       "<Figure size 1080x360 with 1 Axes>"
      ]
     },
     "metadata": {},
     "output_type": "display_data"
    }
   ],
   "source": [
    "fig, ax = plt.subplots(figsize=(15, 5))\n",
    "sns.barplot(x=top_20_cats['category_name'], y=top_20_cats['total_sales'], data=top_20_cats)\n",
    "ax.set(xlabel=\"\\nCategories\",\n",
    "       ylabel=\"Total Sales\\n\",\n",
    "       title=\"Total Sales For Top 20 Item Categories\\n\")\n",
    "plt.xticks(rotation = 90)\n",
    "plt.plot()"
   ]
  },
  {
   "cell_type": "code",
   "execution_count": 17,
   "metadata": {},
   "outputs": [
    {
     "data": {
      "text/html": [
       "<div>\n",
       "<style scoped>\n",
       "    .dataframe tbody tr th:only-of-type {\n",
       "        vertical-align: middle;\n",
       "    }\n",
       "\n",
       "    .dataframe tbody tr th {\n",
       "        vertical-align: top;\n",
       "    }\n",
       "\n",
       "    .dataframe thead th {\n",
       "        text-align: right;\n",
       "    }\n",
       "</style>\n",
       "<table border=\"1\" class=\"dataframe\">\n",
       "  <thead>\n",
       "    <tr style=\"text-align: right;\">\n",
       "      <th></th>\n",
       "      <th>total_sales</th>\n",
       "    </tr>\n",
       "    <tr>\n",
       "      <th>shop_id</th>\n",
       "      <th></th>\n",
       "    </tr>\n",
       "  </thead>\n",
       "  <tbody>\n",
       "    <tr>\n",
       "      <th>2</th>\n",
       "      <td>33921699.54</td>\n",
       "    </tr>\n",
       "    <tr>\n",
       "      <th>3</th>\n",
       "      <td>25390777.25</td>\n",
       "    </tr>\n",
       "    <tr>\n",
       "      <th>4</th>\n",
       "      <td>32540462.39</td>\n",
       "    </tr>\n",
       "    <tr>\n",
       "      <th>5</th>\n",
       "      <td>31173472.42</td>\n",
       "    </tr>\n",
       "    <tr>\n",
       "      <th>6</th>\n",
       "      <td>80993643.52</td>\n",
       "    </tr>\n",
       "  </tbody>\n",
       "</table>\n",
       "</div>"
      ],
      "text/plain": [
       "         total_sales\n",
       "shop_id             \n",
       "2        33921699.54\n",
       "3        25390777.25\n",
       "4        32540462.39\n",
       "5        31173472.42\n",
       "6        80993643.52"
      ]
     },
     "execution_count": 17,
     "metadata": {},
     "output_type": "execute_result"
    }
   ],
   "source": [
    "total_sales_by_shop = combined.groupby('shop_id').agg({'total_sales' : np.sum})\n",
    "total_sales_by_shop.head()"
   ]
  },
  {
   "cell_type": "code",
   "execution_count": 18,
   "metadata": {},
   "outputs": [
    {
     "data": {
      "image/png": "[encoded data removed]",
      "text/plain": [
       "<Figure size 1080x360 with 1 Axes>"
      ]
     },
     "metadata": {},
     "output_type": "display_data"
    }
   ],
   "source": [
    "fig, ax = plt.subplots(figsize=(15, 5))\n",
    "sns.barplot(x=total_sales_by_shop.index, y=total_sales_by_shop['total_sales'])\n",
    "ax.set(xlabel=\"\\nShop ID\",\n",
    "       ylabel=\"Total Sales\\n\",\n",
    "       title=\"Total Sales For Each Shop\\n\")\n",
    "b = plt.plot()"
   ]
  },
  {
   "cell_type": "code",
   "execution_count": 19,
   "metadata": {},
   "outputs": [
    {
     "data": {
      "text/html": [
       "<div>\n",
       "<style scoped>\n",
       "    .dataframe tbody tr th:only-of-type {\n",
       "        vertical-align: middle;\n",
       "    }\n",
       "\n",
       "    .dataframe tbody tr th {\n",
       "        vertical-align: top;\n",
       "    }\n",
       "\n",
       "    .dataframe thead th {\n",
       "        text-align: right;\n",
       "    }\n",
       "</style>\n",
       "<table border=\"1\" class=\"dataframe\">\n",
       "  <thead>\n",
       "    <tr style=\"text-align: right;\">\n",
       "      <th></th>\n",
       "      <th>item_name</th>\n",
       "      <th>item_id</th>\n",
       "      <th>total_sales</th>\n",
       "    </tr>\n",
       "  </thead>\n",
       "  <tbody>\n",
       "    <tr>\n",
       "      <th>0</th>\n",
       "      <td>grand theft auto    ps3  russian subtitles</td>\n",
       "      <td>3732</td>\n",
       "      <td>3.582593e+07</td>\n",
       "    </tr>\n",
       "    <tr>\n",
       "      <th>1</th>\n",
       "      <td>grand theft auto    xbox 360  russian subtitles</td>\n",
       "      <td>3734</td>\n",
       "      <td>2.610344e+07</td>\n",
       "    </tr>\n",
       "    <tr>\n",
       "      <th>2</th>\n",
       "      <td>grand theft auto    pc  russian subtitles</td>\n",
       "      <td>3731</td>\n",
       "      <td>1.925831e+07</td>\n",
       "    </tr>\n",
       "    <tr>\n",
       "      <th>3</th>\n",
       "      <td>grand theft auto    ps4  russian subtitles</td>\n",
       "      <td>3733</td>\n",
       "      <td>1.882065e+07</td>\n",
       "    </tr>\n",
       "    <tr>\n",
       "      <th>4</th>\n",
       "      <td>some   us  ps3  russian version</td>\n",
       "      <td>16787</td>\n",
       "      <td>1.828126e+07</td>\n",
       "    </tr>\n",
       "  </tbody>\n",
       "</table>\n",
       "</div>"
      ],
      "text/plain": [
       "                                          item_name  item_id   total_sales\n",
       "0       grand theft auto    ps3  russian subtitles      3732  3.582593e+07\n",
       "1  grand theft auto    xbox 360  russian subtitles      3734  2.610344e+07\n",
       "2        grand theft auto    pc  russian subtitles      3731  1.925831e+07\n",
       "3       grand theft auto    ps4  russian subtitles      3733  1.882065e+07\n",
       "4                  some   us  ps3  russian version     16787  1.828126e+07"
      ]
     },
     "execution_count": 19,
     "metadata": {},
     "output_type": "execute_result"
    }
   ],
   "source": [
    "top_items = combined.groupby(['item_name', 'item_id']).agg({'total_sales' : np.sum})\\\n",
    ".sort_values('total_sales', ascending=False).reset_index().iloc[:20,::]\n",
    "top_items.head()"
   ]
  },
  {
   "cell_type": "code",
   "execution_count": 20,
   "metadata": {},
   "outputs": [
    {
     "data": {
      "image/png": "[encoded data removed]",
      "text/plain": [
       "<Figure size 1080x360 with 1 Axes>"
      ]
     },
     "metadata": {},
     "output_type": "display_data"
    }
   ],
   "source": [
    "fig, ax = plt.subplots(figsize=(15, 5))\n",
    "sns.barplot(x=top_items['item_id'], y=top_items['total_sales'])\n",
    "ax.set(xlabel=\"\\nItem ID\",\n",
    "       ylabel=\"Total Sales\\n\",\n",
    "       title=\"Total Sales For Top 20 Items\\n\")\n",
    "a = plt.plot()"
   ]
  },
  {
   "cell_type": "code",
   "execution_count": 21,
   "metadata": {},
   "outputs": [
    {
     "data": {
      "text/html": [
       "<div>\n",
       "<style scoped>\n",
       "    .dataframe tbody tr th:only-of-type {\n",
       "        vertical-align: middle;\n",
       "    }\n",
       "\n",
       "    .dataframe tbody tr th {\n",
       "        vertical-align: top;\n",
       "    }\n",
       "\n",
       "    .dataframe thead th {\n",
       "        text-align: right;\n",
       "    }\n",
       "</style>\n",
       "<table border=\"1\" class=\"dataframe\">\n",
       "  <thead>\n",
       "    <tr style=\"text-align: right;\">\n",
       "      <th></th>\n",
       "      <th>item_name</th>\n",
       "      <th>item_id</th>\n",
       "      <th>total_sales</th>\n",
       "    </tr>\n",
       "  </thead>\n",
       "  <tbody>\n",
       "    <tr>\n",
       "      <th>0</th>\n",
       "      <td>grand theft auto    ps3  russian subtitles</td>\n",
       "      <td>3732</td>\n",
       "      <td>3.582593e+07</td>\n",
       "    </tr>\n",
       "    <tr>\n",
       "      <th>1</th>\n",
       "      <td>grand theft auto    xbox 360  russian subtitles</td>\n",
       "      <td>3734</td>\n",
       "      <td>2.610344e+07</td>\n",
       "    </tr>\n",
       "  </tbody>\n",
       "</table>\n",
       "</div>"
      ],
      "text/plain": [
       "                                          item_name  item_id   total_sales\n",
       "0       grand theft auto    ps3  russian subtitles      3732  3.582593e+07\n",
       "1  grand theft auto    xbox 360  russian subtitles      3734  2.610344e+07"
      ]
     },
     "execution_count": 21,
     "metadata": {},
     "output_type": "execute_result"
    }
   ],
   "source": [
    "top_items.loc[top_items['item_id'].isin([3732,3734])]"
   ]
  },
  {
   "cell_type": "code",
   "execution_count": 22,
   "metadata": {},
   "outputs": [],
   "source": [
    "top_20_total = sum(top_items['total_sales'])\n",
    "rest_total = sum(combined.groupby(['item_name', 'item_id']).agg({'total_sales' : np.sum})\\\n",
    ".sort_values('total_sales', ascending=False).reset_index().iloc[20:,::]['total_sales'])\n",
    "pi_labels = ['Top 20 Items', 'All Other Items']"
   ]
  },
  {
   "cell_type": "code",
   "execution_count": 23,
   "metadata": {},
   "outputs": [
    {
     "data": {
      "image/png": "[encoded data removed]",
      "text/plain": [
       "<Figure size 504x504 with 1 Axes>"
      ]
     },
     "metadata": {},
     "output_type": "display_data"
    }
   ],
   "source": [
    "fig, ax = plt.subplots(figsize=(7, 7))\n",
    "c = plt.pie([top_20_total, rest_total], labels=pi_labels, explode=[.2,0], autopct='%1.0f%%')\n",
    "plt.title('Percentage of Total Sales')\n",
    "plt.show(c)"
   ]
  }
 ],
 "metadata": {
  "kernelspec": {
   "display_name": "Python 3",
   "language": "python",
   "name": "python3"
  },
  "language_info": {
   "codemirror_mode": {
    "name": "ipython",
    "version": 3
   },
   "file_extension": ".py",
   "mimetype": "text/x-python",
   "name": "python",
   "nbconvert_exporter": "python",
   "pygments_lexer": "ipython3",
   "version": "3.7.6"
  }
 },
 "nbformat": 4,
 "nbformat_minor": 4
}
